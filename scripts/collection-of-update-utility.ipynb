{
 "cells": [
  {
   "cell_type": "markdown",
   "metadata": {},
   "source": [
    "# Collection-of Update Utility <a class=\"tocSkip\">"
   ]
  },
  {
   "cell_type": "markdown",
   "metadata": {},
   "source": [
    "**In this notebook:**\n",
    "\n",
    "- Collect and update the projects in the collection-of list\n",
    "\n",
    "_Please use a Python 3 kernel for the notebook_"
   ]
  },
  {
   "cell_type": "markdown",
   "metadata": {},
   "source": [
    "## Dependencies"
   ]
  },
  {
   "cell_type": "markdown",
   "metadata": {},
   "source": [
    "### Install Dependencies"
   ]
  },
  {
   "cell_type": "code",
   "execution_count": 1,
   "metadata": {
    "ExecuteTime": {
     "end_time": "2021-12-12T10:53:46.192939Z",
     "start_time": "2021-12-12T10:53:33.991256Z"
    }
   },
   "outputs": [
    {
     "name": "stdout",
     "output_type": "stream",
     "text": [
      "Requirement already satisfied: collection-of in /usr/local/python/3.10.13/lib/python3.10/site-packages/collection_of-0.8.6-py3.10.egg (0.8.6)\n",
      "Requirement already satisfied: pandas in /home/codespace/.local/lib/python3.10/site-packages (from collection-of) (2.2.0)\n",
      "Requirement already satisfied: numpy in /home/codespace/.local/lib/python3.10/site-packages (from collection-of) (1.26.4)\n",
      "Requirement already satisfied: click in /usr/local/python/3.10.13/lib/python3.10/site-packages/click-8.1.7-py3.10.egg (from collection-of) (8.1.7)\n",
      "Requirement already satisfied: tqdm in /usr/local/python/3.10.13/lib/python3.10/site-packages/tqdm-4.66.2-py3.10.egg (from collection-of) (4.66.2)\n",
      "Requirement already satisfied: pybraries in /usr/local/python/3.10.13/lib/python3.10/site-packages/pybraries-0.4.0-py3.10.egg (from collection-of) (0.4.0)\n",
      "Requirement already satisfied: requirements-parser in /usr/local/python/3.10.13/lib/python3.10/site-packages/requirements_parser-0.5.0-py3.10.egg (from collection-of) (0.5.0)\n",
      "Requirement already satisfied: pypistats in /usr/local/python/3.10.13/lib/python3.10/site-packages/pypistats-1.5.0-py3.10.egg (from collection-of) (1.5.0)\n",
      "Requirement already satisfied: requests in /home/codespace/.local/lib/python3.10/site-packages (from collection-of) (2.31.0)\n",
      "Requirement already satisfied: addict in /usr/local/python/3.10.13/lib/python3.10/site-packages/addict-2.4.0-py3.10.egg (from collection-of) (2.4.0)\n",
      "Requirement already satisfied: beautifulsoup4 in /home/codespace/.local/lib/python3.10/site-packages (from collection-of) (4.12.3)\n",
      "Requirement already satisfied: PyYAML in /home/codespace/.local/lib/python3.10/site-packages (from collection-of) (6.0.1)\n",
      "Requirement already satisfied: python-dateutil in /home/codespace/.local/lib/python3.10/site-packages (from collection-of) (2.8.2)\n",
      "Requirement already satisfied: httpx in /home/codespace/.local/lib/python3.10/site-packages (from collection-of) (0.26.0)\n",
      "Requirement already satisfied: soupsieve>1.2 in /home/codespace/.local/lib/python3.10/site-packages (from beautifulsoup4->collection-of) (2.5)\n",
      "Requirement already satisfied: anyio in /home/codespace/.local/lib/python3.10/site-packages (from httpx->collection-of) (4.2.0)\n",
      "Requirement already satisfied: certifi in /home/codespace/.local/lib/python3.10/site-packages (from httpx->collection-of) (2024.2.2)\n",
      "Requirement already satisfied: httpcore==1.* in /home/codespace/.local/lib/python3.10/site-packages (from httpx->collection-of) (1.0.2)\n",
      "Requirement already satisfied: idna in /home/codespace/.local/lib/python3.10/site-packages (from httpx->collection-of) (3.6)\n",
      "Requirement already satisfied: sniffio in /home/codespace/.local/lib/python3.10/site-packages (from httpx->collection-of) (1.3.0)\n",
      "Requirement already satisfied: h11<0.15,>=0.13 in /home/codespace/.local/lib/python3.10/site-packages (from httpcore==1.*->httpx->collection-of) (0.14.0)\n",
      "Requirement already satisfied: pytz>=2020.1 in /home/codespace/.local/lib/python3.10/site-packages (from pandas->collection-of) (2024.1)\n",
      "Requirement already satisfied: tzdata>=2022.7 in /home/codespace/.local/lib/python3.10/site-packages (from pandas->collection-of) (2023.4)\n",
      "Requirement already satisfied: six>=1.5 in /home/codespace/.local/lib/python3.10/site-packages (from python-dateutil->collection-of) (1.16.0)\n",
      "Requirement already satisfied: fire>0.1.1 in /usr/local/python/3.10.13/lib/python3.10/site-packages/fire-0.5.0-py3.10.egg (from pybraries->collection-of) (0.5.0)\n",
      "Requirement already satisfied: urllib3 in /usr/local/python/3.10.13/lib/python3.10/site-packages (from pybraries->collection-of) (2.0.7)\n",
      "Requirement already satisfied: charset-normalizer<4,>=2 in /home/codespace/.local/lib/python3.10/site-packages (from requests->collection-of) (3.3.2)\n",
      "Requirement already satisfied: platformdirs in /home/codespace/.local/lib/python3.10/site-packages (from pypistats->collection-of) (4.2.0)\n",
      "Requirement already satisfied: prettytable>=2.4 in /usr/local/python/3.10.13/lib/python3.10/site-packages/prettytable-3.9.0-py3.10.egg (from pypistats->collection-of) (3.9.0)\n",
      "Requirement already satisfied: pytablewriter>=0.63 in /usr/local/python/3.10.13/lib/python3.10/site-packages/pytablewriter-1.2.0-py3.10.egg (from pytablewriter[html]>=0.63->pypistats->collection-of) (1.2.0)\n",
      "Requirement already satisfied: python-slugify in /usr/local/python/3.10.13/lib/python3.10/site-packages/python_slugify-8.0.4-py3.10.egg (from pypistats->collection-of) (8.0.4)\n",
      "Requirement already satisfied: termcolor>=2.1 in /usr/local/python/3.10.13/lib/python3.10/site-packages/termcolor-2.4.0-py3.10.egg (from pypistats->collection-of) (2.4.0)\n",
      "Requirement already satisfied: types-setuptools>=57.0.0 in /usr/local/python/3.10.13/lib/python3.10/site-packages/types_setuptools-69.1.0.20240217-py3.10.egg (from requirements-parser->collection-of) (69.1.0.20240217)\n",
      "Requirement already satisfied: wcwidth in /home/codespace/.local/lib/python3.10/site-packages (from prettytable>=2.4->pypistats->collection-of) (0.2.13)\n",
      "Requirement already satisfied: setuptools>=38.3.0 in /usr/local/python/3.10.13/lib/python3.10/site-packages (from pytablewriter>=0.63->pytablewriter[html]>=0.63->pypistats->collection-of) (68.2.2)\n",
      "Requirement already satisfied: DataProperty<2,>=1.0.1 in /usr/local/python/3.10.13/lib/python3.10/site-packages/DataProperty-1.0.1-py3.10.egg (from pytablewriter>=0.63->pytablewriter[html]>=0.63->pypistats->collection-of) (1.0.1)\n",
      "Requirement already satisfied: mbstrdecoder<2,>=1.0.0 in /usr/local/python/3.10.13/lib/python3.10/site-packages/mbstrdecoder-1.1.3-py3.10.egg (from pytablewriter>=0.63->pytablewriter[html]>=0.63->pypistats->collection-of) (1.1.3)\n",
      "Requirement already satisfied: pathvalidate<4,>=2.3.0 in /usr/local/python/3.10.13/lib/python3.10/site-packages/pathvalidate-3.2.0-py3.10.egg (from pytablewriter>=0.63->pytablewriter[html]>=0.63->pypistats->collection-of) (3.2.0)\n",
      "Requirement already satisfied: tabledata<2,>=1.3.1 in /usr/local/python/3.10.13/lib/python3.10/site-packages/tabledata-1.3.3-py3.10.egg (from pytablewriter>=0.63->pytablewriter[html]>=0.63->pypistats->collection-of) (1.3.3)\n",
      "Requirement already satisfied: tcolorpy<1,>=0.0.5 in /usr/local/python/3.10.13/lib/python3.10/site-packages/tcolorpy-0.1.4-py3.10.egg (from pytablewriter>=0.63->pytablewriter[html]>=0.63->pypistats->collection-of) (0.1.4)\n",
      "Requirement already satisfied: typepy<2,>=1.3.2 in /usr/local/python/3.10.13/lib/python3.10/site-packages/typepy-1.3.2-py3.10.egg (from typepy[datetime]<2,>=1.3.2->pytablewriter>=0.63->pytablewriter[html]>=0.63->pypistats->collection-of) (1.3.2)\n",
      "Requirement already satisfied: dominate<3,>=2.1.5 in /usr/local/python/3.10.13/lib/python3.10/site-packages/dominate-2.9.1-py3.10.egg (from pytablewriter[html]>=0.63->pypistats->collection-of) (2.9.1)\n",
      "Requirement already satisfied: exceptiongroup>=1.0.2 in /home/codespace/.local/lib/python3.10/site-packages (from anyio->httpx->collection-of) (1.2.0)\n",
      "Requirement already satisfied: typing-extensions>=4.1 in /home/codespace/.local/lib/python3.10/site-packages (from anyio->httpx->collection-of) (4.9.0)\n",
      "Requirement already satisfied: text-unidecode>=1.3 in /usr/local/python/3.10.13/lib/python3.10/site-packages/text_unidecode-1.3-py3.10.egg (from python-slugify->pypistats->collection-of) (1.3)\n",
      "Requirement already satisfied: chardet<6,>=3.0.4 in /usr/local/python/3.10.13/lib/python3.10/site-packages/chardet-5.2.0-py3.10.egg (from mbstrdecoder<2,>=1.0.0->pytablewriter>=0.63->pytablewriter[html]>=0.63->pypistats->collection-of) (5.2.0)\n",
      "Requirement already satisfied: packaging in /home/codespace/.local/lib/python3.10/site-packages (from typepy[datetime]<2,>=1.3.2->pytablewriter>=0.63->pytablewriter[html]>=0.63->pypistats->collection-of) (23.2)\n"
     ]
    }
   ],
   "source": [
    "!pip install --upgrade collection-of"
   ]
  },
  {
   "cell_type": "code",
   "execution_count": 1,
   "metadata": {},
   "outputs": [],
   "source": [
    "# Clone all collection-of lists here"
   ]
  },
  {
   "cell_type": "markdown",
   "metadata": {},
   "source": [
    "### Import Dependencies"
   ]
  },
  {
   "cell_type": "code",
   "execution_count": 3,
   "metadata": {
    "ExecuteTime": {
     "end_time": "2022-01-17T03:41:37.862067Z",
     "start_time": "2022-01-17T03:41:37.825656Z"
    }
   },
   "outputs": [
    {
     "name": "stdout",
     "output_type": "stream",
     "text": [
      "The autoreload extension is already loaded. To reload it, use:\n",
      "  %reload_ext autoreload\n"
     ]
    },
    {
     "ename": "ModuleNotFoundError",
     "evalue": "No module named 'qgrid'",
     "output_type": "error",
     "traceback": [
      "\u001b[0;31m---------------------------------------------------------------------------\u001b[0m",
      "\u001b[0;31mModuleNotFoundError\u001b[0m                       Traceback (most recent call last)",
      "\u001b[1;32m/workspaces/collection-of-generator/scripts/collection-of-update-utility.ipynb Cell 8\u001b[0m line \u001b[0;36m2\n\u001b[1;32m     <a href='vscode-notebook-cell://codespaces%2Bfluffy-parakeet-qr7wgjj6g5qf96q6/workspaces/collection-of-generator/scripts/collection-of-update-utility.ipynb#X10sdnNjb2RlLXJlbW90ZQ%3D%3D?line=26'>27</a>\u001b[0m \u001b[39mimport\u001b[39;00m \u001b[39myaml\u001b[39;00m\n\u001b[1;32m     <a href='vscode-notebook-cell://codespaces%2Bfluffy-parakeet-qr7wgjj6g5qf96q6/workspaces/collection-of-generator/scripts/collection-of-update-utility.ipynb#X10sdnNjb2RlLXJlbW90ZQ%3D%3D?line=27'>28</a>\u001b[0m \u001b[39mfrom\u001b[39;00m \u001b[39maddict\u001b[39;00m \u001b[39mimport\u001b[39;00m Dict\n\u001b[0;32m---> <a href='vscode-notebook-cell://codespaces%2Bfluffy-parakeet-qr7wgjj6g5qf96q6/workspaces/collection-of-generator/scripts/collection-of-update-utility.ipynb#X10sdnNjb2RlLXJlbW90ZQ%3D%3D?line=28'>29</a>\u001b[0m \u001b[39mimport\u001b[39;00m \u001b[39mqgrid\u001b[39;00m\n\u001b[1;32m     <a href='vscode-notebook-cell://codespaces%2Bfluffy-parakeet-qr7wgjj6g5qf96q6/workspaces/collection-of-generator/scripts/collection-of-update-utility.ipynb#X10sdnNjb2RlLXJlbW90ZQ%3D%3D?line=30'>31</a>\u001b[0m \u001b[39mfrom\u001b[39;00m \u001b[39mcollection_of\u001b[39;00m \u001b[39mimport\u001b[39;00m utils, yaml_generation\n\u001b[1;32m     <a href='vscode-notebook-cell://codespaces%2Bfluffy-parakeet-qr7wgjj6g5qf96q6/workspaces/collection-of-generator/scripts/collection-of-update-utility.ipynb#X10sdnNjb2RlLXJlbW90ZQ%3D%3D?line=31'>32</a>\u001b[0m \u001b[39mfrom\u001b[39;00m \u001b[39mcollection_of\u001b[39;00m\u001b[39m.\u001b[39;00m\u001b[39mintegrations\u001b[39;00m \u001b[39mimport\u001b[39;00m libio_integration, github_integration\n",
      "\u001b[0;31mModuleNotFoundError\u001b[0m: No module named 'qgrid'"
     ]
    }
   ],
   "source": [
    "%load_ext autoreload\n",
    "%autoreload 2\n",
    "\n",
    "# System libraries\n",
    "import logging, os, sys\n",
    "import re, shutil\n",
    "import subprocess\n",
    "import time\n",
    "import collections\n",
    "import yaml\n",
    "import glob, os\n",
    "import json\n",
    "from tqdm import tqdm\n",
    "from collections import Counter, OrderedDict\n",
    "from datetime import datetime\n",
    "from typing import Tuple, Optional, List\n",
    "\n",
    "# Enable logging\n",
    "logging.basicConfig(\n",
    "    format=\"[%(levelname)s] %(message)s\", level=logging.INFO, stream=sys.stdout\n",
    ")\n",
    "\n",
    "log = logging.getLogger()\n",
    "\n",
    "import numpy as np\n",
    "import pandas as pd\n",
    "import yaml\n",
    "from addict import Dict\n",
    "import qgrid\n",
    "\n",
    "from collection_of import utils, yaml_generation\n",
    "from collection_of.integrations import libio_integration, github_integration\n",
    "from collection_of.generator import parse_projects_yaml\n",
    "\n",
    "os.environ[\"LIBRARIES_API_KEY\"] = \"<LIBRARIES_API_KEY>\"\n",
    "os.environ[\"GITHUB_API_KEY\"] = \"<GITHUB_API_KEY>\""
   ]
  },
  {
   "cell_type": "markdown",
   "metadata": {},
   "source": [
    "## Load Projects"
   ]
  },
  {
   "cell_type": "code",
   "execution_count": null,
   "metadata": {
    "ExecuteTime": {
     "end_time": "2022-01-17T03:41:39.883179Z",
     "start_time": "2022-01-17T03:41:39.857614Z"
    }
   },
   "outputs": [],
   "source": [
    "extracted_projects = []"
   ]
  },
  {
   "cell_type": "markdown",
   "metadata": {},
   "source": [
    "### Load collection-of history files for exclusion\n",
    "\n",
    "Select all history files from which the projects will be excluded for extraction below."
   ]
  },
  {
   "cell_type": "code",
   "execution_count": null,
   "metadata": {
    "ExecuteTime": {
     "end_time": "2022-01-17T03:41:41.541541Z",
     "start_time": "2022-01-17T03:41:41.437303Z"
    }
   },
   "outputs": [],
   "source": [
    "# CHANGE: Add all relevant history files here:\n",
    "COLLECTION_OF_LISTS = []\n",
    "\n",
    "# Combine all collection-of-lists into one based on github_id\n",
    "github_projects = {}\n",
    "for project_csv_path in COLLECTION_OF_LISTS:\n",
    "    df_projects = pd.read_csv(project_csv_path, index_col=0, keep_default_na=False)\n",
    "    for i, row in df_projects.iterrows():\n",
    "        if \"github_id\" in row and row[\"github_id\"]:\n",
    "            github_id = utils.simplify_str(row[\"github_id\"])\n",
    "            if github_id not in github_projects:\n",
    "                github_projects[github_id] = row.to_dict()\n",
    "\n",
    "df_existing_projects = pd.DataFrame(github_projects.values())\n",
    "\n",
    "excluded_github_ids = []\n",
    "\n",
    "if \"github_id\" in df_existing_projects:\n",
    "    excluded_github_ids = df_existing_projects[\"github_id\"].to_list()"
   ]
  },
  {
   "cell_type": "code",
   "execution_count": null,
   "metadata": {
    "ExecuteTime": {
     "end_time": "2022-01-17T03:41:42.743557Z",
     "start_time": "2022-01-17T03:41:42.687838Z"
    }
   },
   "outputs": [],
   "source": [
    "# Show loaded projects\n",
    "qgrid.show_grid(\n",
    "    df_existing_projects[[\"github_id\", \"github_url\", \"projectrank\", \"license\", \"star_count\"]]\n",
    ")"
   ]
  },
  {
   "cell_type": "markdown",
   "metadata": {},
   "source": [
    "### Optional: Load Projects from Github Org"
   ]
  },
  {
   "cell_type": "code",
   "execution_count": null,
   "metadata": {
    "ExecuteTime": {
     "end_time": "2022-01-17T03:41:48.680082Z",
     "start_time": "2022-01-17T03:41:48.654971Z"
    }
   },
   "outputs": [],
   "source": [
    "# CHANGE: Map one or more Github Orgs to a group ID\n",
    "GITHUB_ORG_MAPPING = {\n",
    "    # \"group_id\": [\"github_org_1\", \"github_org_2\"]\n",
    "}"
   ]
  },
  {
   "cell_type": "markdown",
   "metadata": {},
   "source": [
    "#### Find duplicated usage of github orgs"
   ]
  },
  {
   "cell_type": "code",
   "execution_count": null,
   "metadata": {
    "ExecuteTime": {
     "end_time": "2022-01-17T03:41:50.009059Z",
     "start_time": "2022-01-17T03:41:49.969847Z"
    }
   },
   "outputs": [],
   "source": [
    "UNIQUE_ORGS = set()\n",
    "for group in GITHUB_ORG_MAPPING.keys():\n",
    "    organizations = GITHUB_ORG_MAPPING[group]\n",
    "    for org in organizations:\n",
    "        org = org.lower()\n",
    "        if org in UNIQUE_ORGS:\n",
    "            print(f\"Org {org} is duplicated with {group}\")\n",
    "        else:\n",
    "            UNIQUE_ORGS.add(org)"
   ]
  },
  {
   "cell_type": "markdown",
   "metadata": {},
   "source": [
    "#### Collect projects from orgs"
   ]
  },
  {
   "cell_type": "code",
   "execution_count": null,
   "metadata": {
    "ExecuteTime": {
     "end_time": "2022-01-17T03:41:51.365215Z",
     "start_time": "2022-01-17T03:41:51.321725Z"
    }
   },
   "outputs": [],
   "source": [
    "for group in GITHUB_ORG_MAPPING.keys():\n",
    "    organizations = GITHUB_ORG_MAPPING[group]\n",
    "    for org in organizations:\n",
    "        projects = yaml_generation.get_projects_from_org(org, min_stars=15)\n",
    "\n",
    "        # Run github link extraction on the provided file\n",
    "        extracted_projects = yaml_generation.collect_github_projects(\n",
    "            projects,\n",
    "            excluded_github_ids,\n",
    "            existing_projects=extracted_projects,\n",
    "            group=group.lower()\n",
    "        )"
   ]
  },
  {
   "cell_type": "markdown",
   "metadata": {},
   "source": [
    "#### Show extracted projects"
   ]
  },
  {
   "cell_type": "code",
   "execution_count": null,
   "metadata": {
    "ExecuteTime": {
     "end_time": "2022-01-17T03:41:52.979285Z",
     "start_time": "2022-01-17T03:41:52.787384Z"
    }
   },
   "outputs": [],
   "source": [
    "qgrid.show_grid(\n",
    "    pd.DataFrame(extracted_projects)[\n",
    "        [\"github_id\", \"projectrank\", \"license\", \"star_count\", \"group_id\"]\n",
    "    ]\n",
    ")"
   ]
  },
  {
   "cell_type": "markdown",
   "metadata": {},
   "source": [
    "### Optional: Extract projects via Github URL matching"
   ]
  },
  {
   "cell_type": "code",
   "execution_count": null,
   "metadata": {
    "ExecuteTime": {
     "end_time": "2022-01-17T03:41:54.257439Z",
     "start_time": "2022-01-17T03:41:54.228570Z"
    }
   },
   "outputs": [],
   "source": [
    "TEXT_DATA = \"\"\"\n",
    "\"\"\""
   ]
  },
  {
   "cell_type": "code",
   "execution_count": null,
   "metadata": {
    "ExecuteTime": {
     "end_time": "2022-01-17T03:43:21.707415Z",
     "start_time": "2022-01-17T03:41:55.713682Z"
    }
   },
   "outputs": [],
   "source": [
    "# CHANGE: Select a file via URL, file-path, or provide the string content here:\n",
    "EXTRACT_FROM_DATA = [\n",
    "    TEXT_DATA,\n",
    "    # add additional URLS or files\n",
    "]\n",
    "\n",
    "# Run github link extraction on the provided file\n",
    "extracted_projects = yaml_generation.extract_github_projects(\n",
    "    EXTRACT_FROM_DATA,\n",
    "    excluded_github_ids=excluded_github_ids,\n",
    "    existing_projects=extracted_projects,\n",
    ")"
   ]
  },
  {
   "cell_type": "code",
   "execution_count": null,
   "metadata": {
    "ExecuteTime": {
     "end_time": "2022-01-17T03:43:21.771717Z",
     "start_time": "2022-01-17T03:43:21.709696Z"
    }
   },
   "outputs": [],
   "source": [
    "# Show extracted projects\n",
    "qgrid.show_grid(\n",
    "    pd.DataFrame(extracted_projects)[\n",
    "        [\"github_id\", \"projectrank\", \"license\", \"star_count\"]\n",
    "    ]\n",
    ")"
   ]
  },
  {
   "cell_type": "markdown",
   "metadata": {},
   "source": [
    "### Optional: Extract pypi projects via URL matching "
   ]
  },
  {
   "cell_type": "code",
   "execution_count": null,
   "metadata": {
    "ExecuteTime": {
     "end_time": "2022-01-17T03:02:48.704685Z",
     "start_time": "2022-01-17T03:02:48.662548Z"
    }
   },
   "outputs": [],
   "source": [
    "TEXT_DATA = \"\"\"\n",
    "\n",
    "\"\"\""
   ]
  },
  {
   "cell_type": "code",
   "execution_count": null,
   "metadata": {
    "ExecuteTime": {
     "end_time": "2022-01-17T03:02:50.182757Z",
     "start_time": "2022-01-17T03:02:50.148244Z"
    }
   },
   "outputs": [],
   "source": [
    "# LIBRARIES_API_KEY should be set!\n",
    "# os.environ[\"LIBRARIES_API_KEY\"] = \"<LIBRARIES-TOKEN>\"\n",
    "\n",
    "# CHANGE: Select a file via URL, file-path, or provide the string content here:\n",
    "EXTRACT_FROM_DATA = [\n",
    "    TEXT_DATA,\n",
    "    # add additional URLS or files\n",
    "]\n",
    "\n",
    "# Extract projects\n",
    "extracted_projects = yaml_generation.extract_pypi_projects(\n",
    "    EXTRACT_FROM_DATA,\n",
    "    excluded_github_ids,\n",
    "    existing_projects=extracted_projects,\n",
    ")"
   ]
  },
  {
   "cell_type": "code",
   "execution_count": null,
   "metadata": {
    "ExecuteTime": {
     "end_time": "2022-01-17T02:50:08.105593Z",
     "start_time": "2022-01-17T02:50:07.873892Z"
    }
   },
   "outputs": [],
   "source": [
    "# Show extracted projects\n",
    "qgrid.show_grid(\n",
    "    pd.DataFrame(extracted_projects)[\n",
    "        [\"github_id\", \"pypi_id\", \"projectrank\", \"license\", \"star_count\"]\n",
    "    ]\n",
    ")"
   ]
  },
  {
   "cell_type": "markdown",
   "metadata": {},
   "source": [
    "### Optional: Extract projects from requirements.txt"
   ]
  },
  {
   "cell_type": "code",
   "execution_count": null,
   "metadata": {
    "ExecuteTime": {
     "end_time": "2022-01-17T02:50:09.857258Z",
     "start_time": "2022-01-17T02:50:09.829250Z"
    }
   },
   "outputs": [],
   "source": [
    "TEXT_DATA = \"\"\"\n",
    "\"\"\""
   ]
  },
  {
   "cell_type": "code",
   "execution_count": null,
   "metadata": {
    "ExecuteTime": {
     "end_time": "2022-01-17T02:50:11.524801Z",
     "start_time": "2022-01-17T02:50:11.492912Z"
    }
   },
   "outputs": [],
   "source": [
    "# LIBRARIES_API_KEY should be set!\n",
    "# os.environ[\"LIBRARIES_API_KEY\"] = \"<LIBRARIES-TOKEN>\"\n",
    "\n",
    "# CHANGE: Select a file via URL, file-path, or provide the string content here:\n",
    "EXTRACT_FROM_DATA = [\n",
    "    TEXT_DATA,\n",
    "    # add additional URLS or files\n",
    "]\n",
    "\n",
    "# Extract projects\n",
    "extracted_projects = yaml_generation.extract_pypi_projects_from_requirements(\n",
    "    EXTRACT_FROM_DATA,\n",
    "    df_projects[\"pypi_id\"].to_list(),\n",
    "    existing_projects=extracted_projects,\n",
    ")"
   ]
  },
  {
   "cell_type": "code",
   "execution_count": null,
   "metadata": {
    "ExecuteTime": {
     "end_time": "2022-01-17T02:34:22.523134Z",
     "start_time": "2022-01-17T02:34:22.445672Z"
    }
   },
   "outputs": [],
   "source": [
    "# Show extracted projects\n",
    "qgrid.show_grid(\n",
    "    pd.DataFrame(extracted_projects)[\n",
    "        [\"github_id\", \"pypi_id\", \"projectrank\", \"license\", \"star_count\"]\n",
    "    ]\n",
    ")"
   ]
  },
  {
   "cell_type": "markdown",
   "metadata": {},
   "source": [
    "## Update project metadata"
   ]
  },
  {
   "cell_type": "code",
   "execution_count": null,
   "metadata": {
    "ExecuteTime": {
     "end_time": "2022-01-17T03:43:21.803760Z",
     "start_time": "2022-01-17T03:43:21.775160Z"
    }
   },
   "outputs": [],
   "source": [
    "updated_projects = extracted_projects"
   ]
  },
  {
   "cell_type": "markdown",
   "metadata": {},
   "source": [
    "### Optional: Check & remove outdated packages (TODO)"
   ]
  },
  {
   "cell_type": "code",
   "execution_count": null,
   "metadata": {},
   "outputs": [],
   "source": [
    "# TODO"
   ]
  },
  {
   "cell_type": "markdown",
   "metadata": {},
   "source": [
    "### Optional: Auto discover project packages via libraries.io"
   ]
  },
  {
   "cell_type": "code",
   "execution_count": null,
   "metadata": {
    "ExecuteTime": {
     "end_time": "2022-01-17T03:43:25.289311Z",
     "start_time": "2022-01-17T03:43:21.806969Z"
    }
   },
   "outputs": [],
   "source": [
    "updated_projects = yaml_generation.auto_extend_via_libio(\n",
    "    updated_projects, selected_package_manager=None\n",
    ")"
   ]
  },
  {
   "cell_type": "markdown",
   "metadata": {},
   "source": [
    "### Optional: Auto discover project packages via name match"
   ]
  },
  {
   "cell_type": "code",
   "execution_count": null,
   "metadata": {
    "ExecuteTime": {
     "end_time": "2022-01-17T03:43:25.329252Z",
     "start_time": "2022-01-17T03:43:25.291773Z"
    }
   },
   "outputs": [],
   "source": [
    "# CHANGE: Activate the package managers that are relevant for the given collection-of-list\n",
    "updated_projects = yaml_generation.auto_extend_package_manager(\n",
    "    updated_projects, pypi=False, conda=False, npm=True\n",
    ")"
   ]
  },
  {
   "cell_type": "markdown",
   "metadata": {},
   "source": [
    "## Finalize projects.yaml"
   ]
  },
  {
   "cell_type": "markdown",
   "metadata": {},
   "source": [
    "### Sort out and prepare projects"
   ]
  },
  {
   "cell_type": "code",
   "execution_count": null,
   "metadata": {
    "ExecuteTime": {
     "end_time": "2022-01-17T03:43:25.390249Z",
     "start_time": "2022-01-17T03:43:25.360153Z"
    }
   },
   "outputs": [],
   "source": [
    "# CHANGE values\n",
    "MIN_STAR_COUNT = 30\n",
    "MIN_UPDATE_DATE = \"2020-01-01\""
   ]
  },
  {
   "cell_type": "code",
   "execution_count": null,
   "metadata": {
    "ExecuteTime": {
     "end_time": "2022-01-17T03:43:25.430870Z",
     "start_time": "2022-01-17T03:43:25.393831Z"
    }
   },
   "outputs": [],
   "source": [
    "# Add column to select projects\n",
    "df_updated_projects = pd.DataFrame(updated_projects)\n",
    "\n",
    "# Filter out by date: Updated after selected date:\n",
    "df_updated_projects = df_updated_projects[\n",
    "    (df_updated_projects[\"updated_at\"] > MIN_UPDATE_DATE)\n",
    "]\n",
    "\n",
    "# Filter out by stars\n",
    "df_updated_projects = df_updated_projects[(df_updated_projects[\"star_count\"] > MIN_STAR_COUNT)]"
   ]
  },
  {
   "cell_type": "markdown",
   "metadata": {},
   "source": [
    "### Export selected columns"
   ]
  },
  {
   "cell_type": "code",
   "execution_count": null,
   "metadata": {
    "ExecuteTime": {
     "end_time": "2022-01-17T03:43:36.532242Z",
     "start_time": "2022-01-17T03:43:36.504212Z"
    }
   },
   "outputs": [],
   "source": [
    "# Select columns to show\n",
    "selected_column = [\n",
    "    \"name\",\n",
    "    \"description\",\n",
    "    \"github_id\",\n",
    "    \"projectrank\",\n",
    "    \"license\",\n",
    "    \"star_count\",\n",
    "    \"monthly_downloads\",\n",
    "    \"updated_at\",\n",
    "    \"group_id\"\n",
    "]\n",
    "\n",
    "# Add all available package managers\n",
    "from collection_of.integrations import AVAILABLE_PACKAGE_MANAGER\n",
    "\n",
    "package_columns = list(\n",
    "    set(list(df_updated_projects.columns.values))\n",
    "    & set(\n",
    "        [package_manager.name + \"_id\" for package_manager in AVAILABLE_PACKAGE_MANAGER]\n",
    "    )\n",
    ")\n",
    "\n",
    "selected_column.extend(package_columns)\n",
    "\n",
    "if \"group_id\" not in df_updated_projects:\n",
    "    df_updated_projects[\"group_id\"] = None\n",
    "\n",
    "if \"monthly_downloads\" not in df_updated_projects:\n",
    "    df_updated_projects[\"monthly_downloads\"] = None"
   ]
  },
  {
   "cell_type": "markdown",
   "metadata": {},
   "source": [
    "### Optional: Fix duplicated names"
   ]
  },
  {
   "cell_type": "code",
   "execution_count": null,
   "metadata": {
    "ExecuteTime": {
     "end_time": "2022-01-17T03:43:38.471337Z",
     "start_time": "2022-01-17T03:43:38.433764Z"
    }
   },
   "outputs": [],
   "source": [
    "unique_names = set()\n",
    "projects = df_updated_projects.to_dict(\"records\")\n",
    "for project in projects:\n",
    "    name = project[\"name\"]\n",
    "    github_id = project[\"github_id\"]\n",
    "    if name.lower() in unique_names:\n",
    "        print(f\"Duplicated name {name} -> replacing with {github_id}.\")\n",
    "        project[\"name\"] = project[\"github_id\"]\n",
    "    else:\n",
    "        unique_names.add(name.lower())\n",
    "\n",
    "df_updated_projects = pd.DataFrame(projects)"
   ]
  },
  {
   "cell_type": "markdown",
   "metadata": {},
   "source": [
    "### Show and manually filter data"
   ]
  },
  {
   "cell_type": "code",
   "execution_count": null,
   "metadata": {
    "ExecuteTime": {
     "end_time": "2022-01-17T03:43:40.250690Z",
     "start_time": "2022-01-17T03:43:40.164927Z"
    }
   },
   "outputs": [],
   "source": [
    "# Show updated projects\n",
    "qgrid_updated_projects = qgrid.show_grid(\n",
    "    df_updated_projects[selected_column], show_toolbar=True\n",
    ")\n",
    "qgrid_updated_projects"
   ]
  },
  {
   "cell_type": "markdown",
   "metadata": {},
   "source": [
    "### Set categories for selected projects"
   ]
  },
  {
   "cell_type": "code",
   "execution_count": null,
   "metadata": {
    "ExecuteTime": {
     "end_time": "2022-01-17T03:43:42.129873Z",
     "start_time": "2022-01-17T03:43:42.068976Z"
    }
   },
   "outputs": [],
   "source": [
    "# Get changed df from qgrid widget\n",
    "df_selected_projects = qgrid_updated_projects.get_changed_df()\n",
    "\n",
    "df_selected_projects = df_selected_projects.where(\n",
    "    pd.notnull(df_selected_projects), None\n",
    ")\n",
    "\n",
    "df_selected_projects[\"category\"] = None\n",
    "df_selected_projects[\"labels\"] = None\n",
    "df_selected_projects[\"note\"] = None\n",
    "len(df_selected_projects)"
   ]
  },
  {
   "cell_type": "code",
   "execution_count": null,
   "metadata": {
    "ExecuteTime": {
     "end_time": "2022-01-17T03:43:43.512143Z",
     "start_time": "2022-01-17T03:43:43.412529Z"
    }
   },
   "outputs": [],
   "source": [
    "# Select columns to show\n",
    "selected_columns = [\n",
    "    \"name\",\n",
    "    \"description\",\n",
    "    \"github_id\",\n",
    "    \"category\",\n",
    "    \"labels\",\n",
    "    \"note\",\n",
    "    \"star_count\",\n",
    "    \"projectrank\",\n",
    "    \"group_id\",\n",
    "]\n",
    "\n",
    "selected_columns.extend(package_columns)\n",
    "\n",
    "# Print all available categories\n",
    "if \"category\" in df_existing_projects:\n",
    "    print(df_existing_projects[\"category\"].unique())\n",
    "\n",
    "# Show updated projects\n",
    "qgrid_finalized_projects = qgrid.show_grid(\n",
    "    df_selected_projects[selected_columns], show_toolbar=True\n",
    ")\n",
    "qgrid_finalized_projects"
   ]
  },
  {
   "cell_type": "markdown",
   "metadata": {},
   "source": [
    "### Export selected projects as YAML\n",
    "\n",
    "Export all select projects (interactively in qgrid table above) to yaml. This output can be easily added to a collection-of `projects.yaml`."
   ]
  },
  {
   "cell_type": "code",
   "execution_count": null,
   "metadata": {
    "ExecuteTime": {
     "end_time": "2022-01-17T03:44:19.614000Z",
     "start_time": "2022-01-17T03:44:19.558968Z"
    }
   },
   "outputs": [],
   "source": [
    "# Get changed df from qgrid widget\n",
    "df_selected_projects = qgrid_finalized_projects.get_changed_df()\n",
    "\n",
    "# Filter all without category\n",
    "# TODO? df_selected_projects = df_selected_projects[df_selected_projects[\"category\"] == None]\n",
    "\n",
    "if 'projectrank' in df_selected_projects:\n",
    "    df_selected_projects = df_selected_projects.drop(['projectrank'], axis=1)\n",
    "\n",
    "# Replace empty value with nan\n",
    "df_selected_projects.replace(\"\", np.nan, inplace=True)\n",
    "# Remove all null and nan values\n",
    "df_selected_projects = df_selected_projects.where(\n",
    "    pd.notnull(df_selected_projects), None\n",
    ")\n",
    "\n",
    "from collection_of.integrations import AVAILABLE_PACKAGE_MANAGER\n",
    "\n",
    "export_columns = [\"name\", \"github_id\", \"category\", \"labels\", \"note\", \"group_id\"]\n",
    "export_columns.extend(package_columns)\n",
    "\n",
    "selected_projects = df_selected_projects[export_columns].to_dict(\"records\")\n",
    "\n",
    "cleaned_projects = []\n",
    "for project in selected_projects:\n",
    "    if \"labels\" in project and project[\"labels\"]:\n",
    "        labels = project[\"labels\"]\n",
    "        if isinstance(project[\"labels\"], str):\n",
    "            labels = project[\"labels\"].split(\",\")\n",
    "            \n",
    "        project[\"labels\"] = str(\n",
    "            [label.strip().lower() for label in labels]\n",
    "        )\n",
    "\n",
    "    cleaned_projects.append({k: v for k, v in project.items() if v is not None})\n",
    "\n",
    "# Sort by category\n",
    "cleaned_projects = sorted(\n",
    "    cleaned_projects, key=lambda k: str(k[\"category\"]) if \"category\" in k else \"zzz\"\n",
    ")\n",
    "\n",
    "# Print categories\n",
    "if GITHUB_ORG_MAPPING:\n",
    "    print(\"# Groups\")\n",
    "    print(\n",
    "        yaml.dump(create_group_projects(GITHUB_ORG_MAPPING, cleaned_projects), default_flow_style=False, sort_keys=False)\n",
    "        .replace(\"'[\", \"[\")\n",
    "        .replace(\"]'\", \"]\")\n",
    "        .replace(\"''\", '\"')\n",
    "    )\n",
    "\n",
    "# To yaml format\n",
    "print(\"# Projects\")\n",
    "print(\n",
    "    yaml.dump(cleaned_projects, default_flow_style=False, sort_keys=False)\n",
    "    .replace(\"'[\", \"[\")\n",
    "    .replace(\"]'\", \"]\")\n",
    "    .replace(\"''\", '\"')\n",
    ")"
   ]
  },
  {
   "cell_type": "markdown",
   "metadata": {},
   "source": [
    "# Update projects.yaml\n",
    "\n",
    "Update the projects of an existing projects.yaml without adding new projects."
   ]
  },
  {
   "cell_type": "markdown",
   "metadata": {
    "ExecuteTime": {
     "end_time": "2022-01-10T23:32:24.224175Z",
     "start_time": "2022-01-10T23:32:24.199609Z"
    }
   },
   "source": [
    "## Load projects.yaml"
   ]
  },
  {
   "cell_type": "code",
   "execution_count": null,
   "metadata": {},
   "outputs": [],
   "source": [
    "# CHANGE: Add path to projects.yaml file\n",
    "COLLECTION_OF_LIST_PROJECTS_PATH = \"../projects.yaml\"\n",
    "\n",
    "from collection_of import generator\n",
    "\n",
    "_, existing_projects, _, _ = generator.parse_projects_yaml(COLLECTION_OF_LIST_PROJECTS_PATH)\n",
    "\n",
    "# Show loaded projects\n",
    "qgrid.show_grid(\n",
    "    pd.DataFrame(existing_projects)\n",
    ")"
   ]
  },
  {
   "cell_type": "markdown",
   "metadata": {},
   "source": [
    "## Optional: Update Github IDs"
   ]
  },
  {
   "cell_type": "code",
   "execution_count": null,
   "metadata": {},
   "outputs": [],
   "source": [
    "def update_github_ids(projects: list) -> list:\n",
    "    for project in tqdm(projects):\n",
    "        if \"github_id\" not in project:\n",
    "            continue\n",
    "        \n",
    "        updated_project = Dict(project)\n",
    "        github_integration.update_via_github(updated_project)\n",
    "\n",
    "        if updated_project.updated_github_id:\n",
    "            # Apply updated github id:\n",
    "            old_github_id = project[\"github_id\"]\n",
    "            print(f\"Update Github ID: {old_github_id} -> {updated_project.updated_github_id}\")\n",
    "            project[\"github_id\"] = updated_project.updated_github_id\n",
    "\n",
    "update_github_ids(existing_projects)"
   ]
  },
  {
   "cell_type": "markdown",
   "metadata": {},
   "source": [
    "## Optional: Check if all homepage links are working"
   ]
  },
  {
   "cell_type": "code",
   "execution_count": null,
   "metadata": {
    "ExecuteTime": {
     "end_time": "2022-01-10T23:54:20.772800Z",
     "start_time": "2022-01-10T23:54:11.634106Z"
    }
   },
   "outputs": [],
   "source": [
    "import requests\n",
    "def website_works(url: str) -> bool:\n",
    "    try:\n",
    "        response = requests.head(url)\n",
    "        return response.status_code\n",
    "        if response.status_code == 200:\n",
    "            return True\n",
    "        elif response.status_code == 429:\n",
    "            time.sleep(100)\n",
    "            return website_works(url)\n",
    "        else:\n",
    "            print(f\"Status code: {response.status_code}\")\n",
    "            return False\n",
    "    except Exception as ex:\n",
    "        print(ex)\n",
    "        return False\n",
    "\n",
    "\n",
    "# https://stackoverflow.com/questions/16778435/python-check-if-website-exists\n",
    "for project in tqdm(existing_projects):\n",
    "    project = Dict(project)\n",
    "    if project.homepage and not website_works(project.homepage):\n",
    "        print(f\"The hompage of project {project.name} does not work: {project.homepage}\")\n",
    "    if project.docs_url and not website_works(project.docs_url):\n",
    "        print(f\"The docs_url of project {project.name} does not work: {project.docs_url}\")\n",
    "    if project.demo_url and not website_works(project.demo_url):\n",
    "        print(f\"The demo_url of project {project.name} does not work: {project.demo_url}\")"
   ]
  },
  {
   "cell_type": "markdown",
   "metadata": {},
   "source": [
    "## Optional: Auto discover project packages via libraries.io"
   ]
  },
  {
   "cell_type": "code",
   "execution_count": null,
   "metadata": {
    "ExecuteTime": {
     "end_time": "2022-01-10T23:38:49.259851Z",
     "start_time": "2022-01-10T23:35:02.619046Z"
    }
   },
   "outputs": [],
   "source": [
    "existing_projects = yaml_generation.auto_extend_via_libio(\n",
    "    existing_projects, selected_package_manager=None\n",
    ")"
   ]
  },
  {
   "cell_type": "markdown",
   "metadata": {},
   "source": [
    "## Fix duplicated names"
   ]
  },
  {
   "cell_type": "code",
   "execution_count": null,
   "metadata": {},
   "outputs": [],
   "source": [
    "df_updated_projects = pd.DataFrame(existing_projects)\n",
    "\n",
    "unique_names = set()\n",
    "projects = df_updated_projects.to_dict(\"records\")\n",
    "for project in projects:\n",
    "    name = project[\"name\"]\n",
    "    if \"github_id\" not in project:\n",
    "        # Does not have a github_id -> cannot be fixed\n",
    "        continue\n",
    "    github_id = project[\"github_id\"]\n",
    "    if name.lower() in unique_names:\n",
    "        print(f\"Duplicated name {name} -> replacing with {github_id}.\")\n",
    "        project[\"name\"] = project[\"github_id\"]\n",
    "    else:\n",
    "        unique_names.add(name.lower())\n",
    "\n",
    "df_updated_projects = pd.DataFrame(projects)"
   ]
  },
  {
   "cell_type": "markdown",
   "metadata": {},
   "source": [
    "## Show and manually modify data"
   ]
  },
  {
   "cell_type": "code",
   "execution_count": null,
   "metadata": {
    "ExecuteTime": {
     "end_time": "2022-01-10T23:47:17.118001Z",
     "start_time": "2022-01-10T23:47:17.027144Z"
    }
   },
   "outputs": [],
   "source": [
    "qgrid_select_projects = qgrid.show_grid(\n",
    "    df_updated_projects, show_toolbar=True\n",
    ")\n",
    "qgrid_select_projects"
   ]
  },
  {
   "cell_type": "markdown",
   "metadata": {},
   "source": [
    "## Export selected projects as YAML"
   ]
  },
  {
   "cell_type": "code",
   "execution_count": null,
   "metadata": {
    "ExecuteTime": {
     "end_time": "2022-01-11T00:04:07.195462Z",
     "start_time": "2022-01-11T00:04:07.025311Z"
    }
   },
   "outputs": [],
   "source": [
    "# Get changed df from qgrid widget\n",
    "df_selected_projects = qgrid_select_projects.get_changed_df()\n",
    "\n",
    "if \"projectrank\" in df_selected_projects:\n",
    "    df_selected_projects = df_selected_projects.drop([\"projectrank\"], axis=1)\n",
    "\n",
    "# Replace empty value with nan\n",
    "df_selected_projects.replace(\"\", np.nan, inplace=True)\n",
    "# Remove all null and nan values\n",
    "df_selected_projects = df_selected_projects.where(\n",
    "    pd.notnull(df_selected_projects), None\n",
    ")\n",
    "\n",
    "selected_projects = df_selected_projects.to_dict(\"records\")\n",
    "\n",
    "cleaned_projects = []\n",
    "for project in selected_projects:\n",
    "    if \"labels\" in project and project[\"labels\"]:\n",
    "        labels = project[\"labels\"]\n",
    "        if isinstance(project[\"labels\"], str):\n",
    "            labels = project[\"labels\"].split(\",\")\n",
    "\n",
    "        project[\"labels\"] = str([label.strip().lower() for label in labels])\n",
    "\n",
    "    cleaned_projects.append({k: v for k, v in project.items() if v is not None})\n",
    "\n",
    "# Sort by category (TODO: do not sort?)\n",
    "# cleaned_projects = sorted(\n",
    "#     cleaned_projects, key=lambda k: str(k[\"category\"]) if \"category\" in k else \"zzz\"\n",
    "# )\n",
    "\n",
    "print(\n",
    "    yaml.dump(cleaned_projects, default_flow_style=False, sort_keys=False)\n",
    "    .replace(\"'[\", \"[\")\n",
    "    .replace(\"]'\", \"]\")\n",
    "    .replace(\"''\", '\"')\n",
    ")"
   ]
  }
 ],
 "metadata": {
  "kernelspec": {
   "display_name": "Python 3",
   "language": "python",
   "name": "python3"
  },
  "language_info": {
   "codemirror_mode": {
    "name": "ipython",
    "version": 3
   },
   "file_extension": ".py",
   "mimetype": "text/x-python",
   "name": "python",
   "nbconvert_exporter": "python",
   "pygments_lexer": "ipython3",
   "version": "3.10.13"
  },
  "toc": {
   "base_numbering": 1,
   "nav_menu": {},
   "number_sections": false,
   "sideBar": true,
   "skip_h1_title": false,
   "title_cell": "Table of Contents",
   "title_sidebar": "Contents",
   "toc_cell": false,
   "toc_position": {
    "height": "calc(100% - 180px)",
    "left": "10px",
    "top": "150px",
    "width": "384px"
   },
   "toc_section_display": true,
   "toc_window_display": false
  }
 },
 "nbformat": 4,
 "nbformat_minor": 2
}
